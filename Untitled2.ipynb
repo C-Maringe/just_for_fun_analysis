{
 "cells": [
  {
   "cell_type": "code",
   "execution_count": 6,
   "id": "b4a3c2b6",
   "metadata": {},
   "outputs": [],
   "source": [
    "import pandas as pd\n",
    "import numpy as np\n",
    "import statsmodels.api as sm"
   ]
  },
  {
   "cell_type": "code",
   "execution_count": 7,
   "id": "b68a1cd5",
   "metadata": {},
   "outputs": [],
   "source": [
    "data = pd.read_excel('bda_data.xlsx')"
   ]
  },
  {
   "cell_type": "code",
   "execution_count": 8,
   "id": "4dd56c10",
   "metadata": {},
   "outputs": [
    {
     "data": {
      "text/plain": [
       "bda_capability                  float64\n",
       "asset_base                      float64\n",
       "predictive_analytics_usage      float64\n",
       "descriptive_analytics_usage     float64\n",
       "diagnostic_analytics_usage      float64\n",
       "prescriptive_analytics_usage    float64\n",
       "revenue_growth                  float64\n",
       "dtype: object"
      ]
     },
     "execution_count": 8,
     "metadata": {},
     "output_type": "execute_result"
    }
   ],
   "source": [
    "data.dtypes"
   ]
  },
  {
   "cell_type": "code",
   "execution_count": 9,
   "id": "da5b5d57",
   "metadata": {},
   "outputs": [
    {
     "name": "stdout",
     "output_type": "stream",
     "text": [
      "0.8020802043708105\n"
     ]
    }
   ],
   "source": [
    "X = data[['asset_base', 'bda_capability', 'predictive_analytics_usage', \n",
    "                           'descriptive_analytics_usage', 'diagnostic_analytics_usage', \n",
    "                           'prescriptive_analytics_usage']]\n",
    "y = data['revenue_growth']\n",
    "X = sm.add_constant(X)\n",
    "model = sm.OLS(y, X).fit()\n",
    "r_squared = model.rsquared\n",
    "print(r_squared)"
   ]
  },
  {
   "cell_type": "code",
   "execution_count": 10,
   "id": "f0901ae1",
   "metadata": {},
   "outputs": [
    {
     "name": "stdout",
     "output_type": "stream",
     "text": [
      "                            OLS Regression Results                            \n",
      "==============================================================================\n",
      "Dep. Variable:         revenue_growth   R-squared:                       0.802\n",
      "Model:                            OLS   Adj. R-squared:                  0.782\n",
      "Method:                 Least Squares   F-statistic:                     40.53\n",
      "Date:                Thu, 18 May 2023   Prob (F-statistic):           2.54e-19\n",
      "Time:                        12:32:22   Log-Likelihood:                 132.71\n",
      "No. Observations:                  67   AIC:                            -251.4\n",
      "Df Residuals:                      60   BIC:                            -236.0\n",
      "Df Model:                           6                                         \n",
      "Covariance Type:            nonrobust                                         \n",
      "================================================================================================\n",
      "                                   coef    std err          t      P>|t|      [0.025      0.975]\n",
      "------------------------------------------------------------------------------------------------\n",
      "const                           -0.5236      0.039    -13.309      0.000      -0.602      -0.445\n",
      "asset_base                       0.0359      0.005      7.376      0.000       0.026       0.046\n",
      "bda_capability                   0.0403      0.005      8.635      0.000       0.031       0.050\n",
      "predictive_analytics_usage       0.0045      0.005      0.966      0.338      -0.005       0.014\n",
      "descriptive_analytics_usage      0.0208      0.004      4.848      0.000       0.012       0.029\n",
      "diagnostic_analytics_usage       0.0516      0.006      8.951      0.000       0.040       0.063\n",
      "prescriptive_analytics_usage     0.0158      0.005      3.212      0.002       0.006       0.026\n",
      "==============================================================================\n",
      "Omnibus:                       20.175   Durbin-Watson:                   1.942\n",
      "Prob(Omnibus):                  0.000   Jarque-Bera (JB):               29.528\n",
      "Skew:                          -1.159   Prob(JB):                     3.87e-07\n",
      "Kurtosis:                       5.281   Cond. No.                         68.4\n",
      "==============================================================================\n",
      "\n",
      "Notes:\n",
      "[1] Standard Errors assume that the covariance matrix of the errors is correctly specified.\n"
     ]
    }
   ],
   "source": [
    "print(model.summary())"
   ]
  },
  {
   "cell_type": "code",
   "execution_count": 11,
   "id": "f2a13746",
   "metadata": {},
   "outputs": [
    {
     "name": "stdout",
     "output_type": "stream",
     "text": [
      "                            OLS Regression Results                            \n",
      "==============================================================================\n",
      "Dep. Variable:         revenue_growth   R-squared:                       0.627\n",
      "Model:                            OLS   Adj. R-squared:                  0.590\n",
      "Method:                 Least Squares   F-statistic:                     16.83\n",
      "Date:                Thu, 18 May 2023   Prob (F-statistic):           2.81e-11\n",
      "Time:                        12:40:31   Log-Likelihood:                 111.51\n",
      "No. Observations:                  67   AIC:                            -209.0\n",
      "Df Residuals:                      60   BIC:                            -193.6\n",
      "Df Model:                           6                                         \n",
      "Covariance Type:            nonrobust                                         \n",
      "================================================================================================\n",
      "                                   coef    std err          t      P>|t|      [0.025      0.975]\n",
      "------------------------------------------------------------------------------------------------\n",
      "const                           -0.4143      0.051     -8.115      0.000      -0.516      -0.312\n",
      "asset_base                       0.0331      0.007      4.969      0.000       0.020       0.046\n",
      "bda_capability                   0.0340      0.006      5.384      0.000       0.021       0.047\n",
      "predictive_analytics_usage      -0.0082      0.006     -1.325      0.190      -0.021       0.004\n",
      "descriptive_analytics_usage      0.0231      0.006      4.003      0.000       0.012       0.035\n",
      "diagnostic_analytics_usage       0.0315      0.007      4.392      0.000       0.017       0.046\n",
      "prescriptive_analytics_usage     0.0245      0.007      3.609      0.001       0.011       0.038\n",
      "==============================================================================\n",
      "Omnibus:                        7.690   Durbin-Watson:                   1.886\n",
      "Prob(Omnibus):                  0.021   Jarque-Bera (JB):               11.758\n",
      "Skew:                           0.322   Prob(JB):                      0.00280\n",
      "Kurtosis:                       4.948   Cond. No.                         63.5\n",
      "==============================================================================\n",
      "\n",
      "Notes:\n",
      "[1] Standard Errors assume that the covariance matrix of the errors is correctly specified.\n"
     ]
    }
   ],
   "source": [
    "data1 = pd.read_excel('bda_data (1).xlsx')\n",
    "X1 = data1[['asset_base', 'bda_capability', 'predictive_analytics_usage', \n",
    "                           'descriptive_analytics_usage', 'diagnostic_analytics_usage', \n",
    "                           'prescriptive_analytics_usage']]\n",
    "y1 = data1['revenue_growth']\n",
    "X1 = sm.add_constant(X1)\n",
    "model1 = sm.OLS(y1, X1).fit()\n",
    "print(model1.summary())"
   ]
  },
  {
   "cell_type": "code",
   "execution_count": 13,
   "id": "4098543d",
   "metadata": {},
   "outputs": [
    {
     "name": "stdout",
     "output_type": "stream",
     "text": [
      "                            OLS Regression Results                            \n",
      "==============================================================================\n",
      "Dep. Variable:         revenue_growth   R-squared:                       0.750\n",
      "Model:                            OLS   Adj. R-squared:                  0.725\n",
      "Method:                 Least Squares   F-statistic:                     30.03\n",
      "Date:                Thu, 18 May 2023   Prob (F-statistic):           2.42e-16\n",
      "Time:                        12:43:05   Log-Likelihood:                 124.91\n",
      "No. Observations:                  67   AIC:                            -235.8\n",
      "Df Residuals:                      60   BIC:                            -220.4\n",
      "Df Model:                           6                                         \n",
      "Covariance Type:            nonrobust                                         \n",
      "================================================================================================\n",
      "                                   coef    std err          t      P>|t|      [0.025      0.975]\n",
      "------------------------------------------------------------------------------------------------\n",
      "const                           -0.5079      0.044    -11.440      0.000      -0.597      -0.419\n",
      "asset_base                       0.0340      0.005      6.233      0.000       0.023       0.045\n",
      "bda_capability                   0.0358      0.005      6.930      0.000       0.026       0.046\n",
      "predictive_analytics_usage       0.0009      0.005      0.177      0.860      -0.009       0.011\n",
      "descriptive_analytics_usage      0.0204      0.005      4.274      0.000       0.011       0.030\n",
      "diagnostic_analytics_usage       0.0522      0.006      8.067      0.000       0.039       0.065\n",
      "prescriptive_analytics_usage     0.0222      0.006      3.969      0.000       0.011       0.033\n",
      "==============================================================================\n",
      "Omnibus:                       15.695   Durbin-Watson:                   2.185\n",
      "Prob(Omnibus):                  0.000   Jarque-Bera (JB):               37.865\n",
      "Skew:                          -0.623   Prob(JB):                     5.99e-09\n",
      "Kurtosis:                       6.466   Cond. No.                         68.2\n",
      "==============================================================================\n",
      "\n",
      "Notes:\n",
      "[1] Standard Errors assume that the covariance matrix of the errors is correctly specified.\n"
     ]
    }
   ],
   "source": [
    "data2 = pd.read_excel('bda_data (2).xlsx')\n",
    "X2 = data2[['asset_base', 'bda_capability', 'predictive_analytics_usage', \n",
    "                           'descriptive_analytics_usage', 'diagnostic_analytics_usage', \n",
    "                           'prescriptive_analytics_usage']]\n",
    "y2 = data2['revenue_growth']\n",
    "X2 = sm.add_constant(X2)\n",
    "model2 = sm.OLS(y2, X2).fit()\n",
    "print(model2.summary())"
   ]
  },
  {
   "cell_type": "code",
   "execution_count": 14,
   "id": "8d56404a",
   "metadata": {},
   "outputs": [
    {
     "data": {
      "text/html": [
       "<div>\n",
       "<style scoped>\n",
       "    .dataframe tbody tr th:only-of-type {\n",
       "        vertical-align: middle;\n",
       "    }\n",
       "\n",
       "    .dataframe tbody tr th {\n",
       "        vertical-align: top;\n",
       "    }\n",
       "\n",
       "    .dataframe thead th {\n",
       "        text-align: right;\n",
       "    }\n",
       "</style>\n",
       "<table border=\"1\" class=\"dataframe\">\n",
       "  <thead>\n",
       "    <tr style=\"text-align: right;\">\n",
       "      <th></th>\n",
       "      <th>bda_capability</th>\n",
       "      <th>asset_base</th>\n",
       "      <th>predictive_analytics_usage</th>\n",
       "      <th>descriptive_analytics_usage</th>\n",
       "      <th>diagnostic_analytics_usage</th>\n",
       "      <th>prescriptive_analytics_usage</th>\n",
       "      <th>revenue_growth</th>\n",
       "    </tr>\n",
       "  </thead>\n",
       "  <tbody>\n",
       "    <tr>\n",
       "      <th>0</th>\n",
       "      <td>3.0</td>\n",
       "      <td>3.0</td>\n",
       "      <td>4.0</td>\n",
       "      <td>4.0</td>\n",
       "      <td>3.0</td>\n",
       "      <td>1.0</td>\n",
       "      <td>-0.055</td>\n",
       "    </tr>\n",
       "    <tr>\n",
       "      <th>1</th>\n",
       "      <td>1.0</td>\n",
       "      <td>3.0</td>\n",
       "      <td>1.0</td>\n",
       "      <td>2.0</td>\n",
       "      <td>4.0</td>\n",
       "      <td>5.0</td>\n",
       "      <td>0.118</td>\n",
       "    </tr>\n",
       "    <tr>\n",
       "      <th>2</th>\n",
       "      <td>2.0</td>\n",
       "      <td>4.0</td>\n",
       "      <td>2.0</td>\n",
       "      <td>3.0</td>\n",
       "      <td>3.0</td>\n",
       "      <td>2.0</td>\n",
       "      <td>-0.054</td>\n",
       "    </tr>\n",
       "    <tr>\n",
       "      <th>3</th>\n",
       "      <td>2.0</td>\n",
       "      <td>3.0</td>\n",
       "      <td>3.0</td>\n",
       "      <td>3.0</td>\n",
       "      <td>3.0</td>\n",
       "      <td>3.0</td>\n",
       "      <td>-0.016</td>\n",
       "    </tr>\n",
       "    <tr>\n",
       "      <th>4</th>\n",
       "      <td>4.0</td>\n",
       "      <td>3.0</td>\n",
       "      <td>3.0</td>\n",
       "      <td>1.0</td>\n",
       "      <td>3.0</td>\n",
       "      <td>2.0</td>\n",
       "      <td>-0.052</td>\n",
       "    </tr>\n",
       "  </tbody>\n",
       "</table>\n",
       "</div>"
      ],
      "text/plain": [
       "   bda_capability  asset_base  predictive_analytics_usage  \\\n",
       "0             3.0         3.0                         4.0   \n",
       "1             1.0         3.0                         1.0   \n",
       "2             2.0         4.0                         2.0   \n",
       "3             2.0         3.0                         3.0   \n",
       "4             4.0         3.0                         3.0   \n",
       "\n",
       "   descriptive_analytics_usage  diagnostic_analytics_usage  \\\n",
       "0                          4.0                         3.0   \n",
       "1                          2.0                         4.0   \n",
       "2                          3.0                         3.0   \n",
       "3                          3.0                         3.0   \n",
       "4                          1.0                         3.0   \n",
       "\n",
       "   prescriptive_analytics_usage  revenue_growth  \n",
       "0                           1.0          -0.055  \n",
       "1                           5.0           0.118  \n",
       "2                           2.0          -0.054  \n",
       "3                           3.0          -0.016  \n",
       "4                           2.0          -0.052  "
      ]
     },
     "execution_count": 14,
     "metadata": {},
     "output_type": "execute_result"
    }
   ],
   "source": [
    "data2.head()"
   ]
  },
  {
   "cell_type": "code",
   "execution_count": null,
   "id": "722c7e64",
   "metadata": {},
   "outputs": [],
   "source": []
  }
 ],
 "metadata": {
  "kernelspec": {
   "display_name": "Python 3 (ipykernel)",
   "language": "python",
   "name": "python3"
  },
  "language_info": {
   "codemirror_mode": {
    "name": "ipython",
    "version": 3
   },
   "file_extension": ".py",
   "mimetype": "text/x-python",
   "name": "python",
   "nbconvert_exporter": "python",
   "pygments_lexer": "ipython3",
   "version": "3.9.12"
  }
 },
 "nbformat": 4,
 "nbformat_minor": 5
}
